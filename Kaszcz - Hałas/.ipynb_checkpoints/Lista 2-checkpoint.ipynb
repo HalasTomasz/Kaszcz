{
 "cells": [
  {
   "cell_type": "markdown",
   "id": "13ce1a6f",
   "metadata": {},
   "source": [
    "### Lista 2 zad 2"
   ]
  },
  {
   "cell_type": "code",
   "execution_count": 8,
   "id": "36422a03",
   "metadata": {},
   "outputs": [],
   "source": [
    "import numpy as np \n",
    "import pandas as pd\n",
    "import seaborn as sns\n",
    "import matplotlib.pyplot as plt"
   ]
  },
  {
   "cell_type": "code",
   "execution_count": 16,
   "id": "53313f13",
   "metadata": {},
   "outputs": [
    {
     "data": {
      "text/plain": [
       "[<matplotlib.lines.Line2D at 0x297688bceb0>]"
      ]
     },
     "execution_count": 16,
     "metadata": {},
     "output_type": "execute_result"
    },
    {
     "data": {
      "image/png": "[encoded data removed]",
      "text/plain": [
       "<Figure size 432x288 with 1 Axes>"
      ]
     },
     "metadata": {
      "needs_background": "light"
     },
     "output_type": "display_data"
    }
   ],
   "source": [
    "X = range(1,2801)\n",
    "y_array_1 = np.random.normal(0,2,800)\n",
    "y_array_2 = np.random.normal(0,4,2000)\n",
    "y_array = np.append(y_array_1,y_array_2) \n",
    "y_array = pow(y_array,2)\n",
    "result_array=np.cumsum(y_array)\n",
    "plt.plot(X,result_array)"
   ]
  },
  {
   "cell_type": "code",
   "execution_count": 88,
   "id": "8115a9ca",
   "metadata": {},
   "outputs": [
    {
     "name": "stdout",
     "output_type": "stream",
     "text": [
      "0\n",
      "1\n",
      "2\n",
      "3\n",
      "4\n",
      "5\n",
      "6\n",
      "7\n",
      "8\n",
      "9\n",
      "10\n",
      "11\n",
      "12\n",
      "13\n",
      "14\n",
      "15\n",
      "16\n",
      "17\n",
      "18\n",
      "19\n",
      "20\n",
      "21\n",
      "22\n",
      "23\n",
      "24\n",
      "25\n",
      "26\n",
      "27\n",
      "28\n",
      "29\n",
      "[517, 487, 505, 505, 550, 515, 503, 478, 499, 521, 532, 528, 539, 493, 496, 525, 541, 522, 517, 525, 511, 511, 495, 490, 503, 526, 489, 501, 501, 525]\n"
     ]
    }
   ],
   "source": [
    "X = range(1,1001)\n",
    "n = len(X)\n",
    "e_arr = []\n",
    "final_arr = []\n",
    "for M in range(30):\n",
    "    X = range(1,1001)\n",
    "    y_array_1 = np.random.normal(0,2,500)\n",
    "    y_array_2 = np.random.normal(0,4,500)\n",
    "    y_array = np.append(y_array_1,y_array_2) \n",
    "    y_array = pow(y_array,2)\n",
    "    result_array=np.cumsum(y_array)\n",
    "    print(M)\n",
    "    for k in range(2,n-2):\n",
    "            X_1 = X[:k]\n",
    "            X_2 = X[k:]\n",
    "            C_1 = result_array[:k]\n",
    "            C_2 = result_array[k:]\n",
    "            first_params = np.polyfit(X_1,C_1,1)\n",
    "            second_params = np.polyfit(X_2,C_2,1)\n",
    "            e_arr.append(sum(pow(C_1- first_params[0]*X_1 - first_params[1],2)) + sum(pow(C_2-second_params[0]*X_2-second_params[1],2)))\n",
    "    final_arr.append(np.argmin(e_arr))\n",
    "    e_arr = [] \n",
    "print(final_arr)"
   ]
  },
  {
   "cell_type": "code",
   "execution_count": 92,
   "id": "24b3a7b6",
   "metadata": {},
   "outputs": [
    {
     "data": {
      "text/plain": [
       "{'whiskers': [<matplotlib.lines.Line2D at 0x297689eedc0>,\n",
       "  <matplotlib.lines.Line2D at 0x297689fe190>],\n",
       " 'caps': [<matplotlib.lines.Line2D at 0x297689fe520>,\n",
       "  <matplotlib.lines.Line2D at 0x297689fe8b0>],\n",
       " 'boxes': [<matplotlib.lines.Line2D at 0x297689eea30>],\n",
       " 'medians': [<matplotlib.lines.Line2D at 0x297689fec40>],\n",
       " 'fliers': [<matplotlib.lines.Line2D at 0x297689fefd0>],\n",
       " 'means': []}"
      ]
     },
     "execution_count": 92,
     "metadata": {},
     "output_type": "execute_result"
    },
    {
     "data": {
      "image/png": "[encoded data removed]",
      "text/plain": [
       "<Figure size 432x288 with 1 Axes>"
      ]
     },
     "metadata": {
      "needs_background": "light"
     },
     "output_type": "display_data"
    }
   ],
   "source": [
    "plt.boxplot(final_arr)\n"
   ]
  },
  {
   "cell_type": "code",
   "execution_count": null,
   "id": "bb6c532d",
   "metadata": {},
   "outputs": [],
   "source": []
  },
  {
   "cell_type": "markdown",
   "id": "941bc238",
   "metadata": {},
   "source": [
    "### Zad 3"
   ]
  },
  {
   "cell_type": "code",
   "execution_count": 102,
   "id": "e14bb45c",
   "metadata": {},
   "outputs": [
    {
     "name": "stdout",
     "output_type": "stream",
     "text": [
      "B0 Średnia z próby:  2.998702311529829  VS teoretyczna: 3\n",
      "B0 Wariancja z próby:  0.003634623217432524  VS teoretyczna: 0.03998501217707953\n",
      "B1 Średnia z próby:  2.000105302624333  VS teoretyczna: 3\n",
      "B1 Wariancja z próby:  0.00011280935804849176  VS teoretyczna: 0.00011976023976023973\n"
     ]
    }
   ],
   "source": [
    "n = 1000 \n",
    "x = np.linspace(0,10,1000)\n",
    "B0 = 3\n",
    "B1 = 2\n",
    "sigma = 1 \n",
    "est_B0 = []\n",
    "est_B1 = []\n",
    "for i in range(1000):\n",
    "    Ei = np.random.normal(0,1,n)\n",
    "    Yi = np.array(B0 + B1*x + Ei)\n",
    "    est_B1.append(sum(x*(Yi-np.mean(Yi)))/sum(pow(x-np.mean(x),2)))\n",
    "    est_B0.append(np.mean(Yi) - est_B1[-1]*np.mean(x))\n",
    "print(\"B0 Średnia z próby: \", np.mean(est_B0), \" VS teoretyczna:\", 3)\n",
    "print(\"B0 Wariancja z próby: \", np.var(est_B0), \" VS teoretyczna:\", 1*np.sqrt(1/n + (np.mean(x)/sum(pow(x-np.mean(x),2)))))\n",
    "print(\"B1 Średnia z próby: \", np.mean(est_B1), \" VS teoretyczna:\", 3)\n",
    "print(\"B1 Wariancja z próby: \", np.var(est_B1), \" VS teoretyczna:\", 1/(sum(pow(x-np.mean(x),2))))"
   ]
  },
  {
   "cell_type": "code",
   "execution_count": 107,
   "id": "964acd49",
   "metadata": {},
   "outputs": [
    {
     "data": {
      "text/plain": [
       "[<matplotlib.lines.Line2D at 0x29769fc5a30>]"
      ]
     },
     "execution_count": 107,
     "metadata": {},
     "output_type": "execute_result"
    },
    {
     "data": {
      "image/png": "[encoded data removed]",
      "text/plain": [
       "<Figure size 432x288 with 1 Axes>"
      ]
     },
     "metadata": {
      "needs_background": "light"
     },
     "output_type": "display_data"
    }
   ],
   "source": [
    "from scipy.stats import norm\n",
    "sns.ecdfplot(est_B1)\n",
    "x1 = np.linspace(2.4,2.8,1000)\n",
    "y1 = norm.cdf(x, loc=3, scale= np.sqrt(1/n + (np.mean(x)/sum(pow(x-np.mean(x),2)))))\n",
    "plt.plot(x1, y1)"
   ]
  }
 ],
 "metadata": {
  "kernelspec": {
   "display_name": "Python 3 (ipykernel)",
   "language": "python",
   "name": "python3"
  },
  "language_info": {
   "codemirror_mode": {
    "name": "ipython",
    "version": 3
   },
   "file_extension": ".py",
   "mimetype": "text/x-python",
   "name": "python",
   "nbconvert_exporter": "python",
   "pygments_lexer": "ipython3",
   "version": "3.9.7"
  }
 },
 "nbformat": 4,
 "nbformat_minor": 5
}
