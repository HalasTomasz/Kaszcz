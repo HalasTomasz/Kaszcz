{
 "cells": [
  {
   "cell_type": "code",
   "execution_count": 3,
   "id": "9082d445",
   "metadata": {},
   "outputs": [],
   "source": [
    "import numpy as np\n",
    "import seaborn as sns"
   ]
  },
  {
   "cell_type": "code",
   "execution_count": 6,
   "id": "43f265fe",
   "metadata": {},
   "outputs": [
    {
     "ename": "NameError",
     "evalue": "name 'h' is not defined",
     "output_type": "error",
     "traceback": [
      "\u001b[1;31m---------------------------------------------------------------------------\u001b[0m",
      "\u001b[1;31mNameError\u001b[0m                                 Traceback (most recent call last)",
      "\u001b[1;32m~\\AppData\\Local\\Temp/ipykernel_336/2839065105.py\u001b[0m in \u001b[0;36m<module>\u001b[1;34m\u001b[0m\n\u001b[0;32m      5\u001b[0m \u001b[0mZt\u001b[0m \u001b[1;33m=\u001b[0m \u001b[0mnp\u001b[0m\u001b[1;33m.\u001b[0m\u001b[0mrandom\u001b[0m\u001b[1;33m.\u001b[0m\u001b[0mnormal\u001b[0m\u001b[1;33m(\u001b[0m\u001b[1;36m0\u001b[0m\u001b[1;33m,\u001b[0m\u001b[0msigma\u001b[0m\u001b[1;33m,\u001b[0m \u001b[0msize\u001b[0m\u001b[1;33m=\u001b[0m\u001b[0mn\u001b[0m\u001b[1;33m)\u001b[0m\u001b[1;33m\u001b[0m\u001b[1;33m\u001b[0m\u001b[0m\n\u001b[0;32m      6\u001b[0m \u001b[0mXt\u001b[0m \u001b[1;33m=\u001b[0m \u001b[0mZt\u001b[0m\u001b[1;33m[\u001b[0m\u001b[1;36m1\u001b[0m\u001b[1;33m:\u001b[0m\u001b[1;33m]\u001b[0m \u001b[1;33m+\u001b[0m \u001b[0mtheta\u001b[0m\u001b[1;33m*\u001b[0m\u001b[0mZt\u001b[0m\u001b[1;33m[\u001b[0m\u001b[1;36m0\u001b[0m\u001b[1;33m:\u001b[0m\u001b[1;33m-\u001b[0m\u001b[1;36m1\u001b[0m\u001b[1;33m]\u001b[0m\u001b[1;33m\u001b[0m\u001b[1;33m\u001b[0m\u001b[0m\n\u001b[1;32m----> 7\u001b[1;33m \u001b[0mYt\u001b[0m \u001b[1;33m=\u001b[0m \u001b[1;36m1\u001b[0m\u001b[1;33m/\u001b[0m\u001b[0mn\u001b[0m \u001b[1;33m*\u001b[0m \u001b[0msum\u001b[0m\u001b[1;33m(\u001b[0m\u001b[1;33m[\u001b[0m \u001b[1;33m(\u001b[0m\u001b[0mXt\u001b[0m\u001b[1;33m[\u001b[0m\u001b[0mi\u001b[0m\u001b[1;33m]\u001b[0m \u001b[1;33m-\u001b[0m \u001b[0mnp\u001b[0m\u001b[1;33m.\u001b[0m\u001b[0mmean\u001b[0m\u001b[1;33m(\u001b[0m\u001b[0mXt\u001b[0m\u001b[1;33m)\u001b[0m\u001b[1;33m)\u001b[0m \u001b[1;33m*\u001b[0m \u001b[1;33m(\u001b[0m\u001b[0mXt\u001b[0m\u001b[1;33m[\u001b[0m\u001b[0mi\u001b[0m \u001b[1;33m+\u001b[0m \u001b[0mlen\u001b[0m\u001b[1;33m(\u001b[0m\u001b[0mh\u001b[0m\u001b[1;33m)\u001b[0m\u001b[1;33m]\u001b[0m \u001b[1;33m-\u001b[0m \u001b[0mmean\u001b[0m\u001b[1;33m(\u001b[0m\u001b[0mXt\u001b[0m\u001b[1;33m)\u001b[0m\u001b[1;33m)\u001b[0m \u001b[1;32mfor\u001b[0m \u001b[0mi\u001b[0m \u001b[1;32min\u001b[0m \u001b[0mrange\u001b[0m\u001b[1;33m(\u001b[0m\u001b[1;36m0\u001b[0m\u001b[1;33m,\u001b[0m\u001b[0mn\u001b[0m\u001b[1;33m-\u001b[0m \u001b[0mlen\u001b[0m\u001b[1;33m(\u001b[0m\u001b[0mh\u001b[0m\u001b[1;33m)\u001b[0m\u001b[1;33m)\u001b[0m \u001b[1;33m]\u001b[0m\u001b[1;33m)\u001b[0m\u001b[1;33m\u001b[0m\u001b[1;33m\u001b[0m\u001b[0m\n\u001b[0m\u001b[0;32m      8\u001b[0m \u001b[0mY_s\u001b[0m \u001b[1;33m=\u001b[0m \u001b[0mYt\u001b[0m\u001b[1;33m*\u001b[0m\u001b[1;33m(\u001b[0m\u001b[0mhs\u001b[0m\u001b[1;33m)\u001b[0m\u001b[1;33m\u001b[0m\u001b[1;33m\u001b[0m\u001b[0m\n\u001b[0;32m      9\u001b[0m \u001b[1;33m\u001b[0m\u001b[0m\n",
      "\u001b[1;31mNameError\u001b[0m: name 'h' is not defined"
     ]
    }
   ],
   "source": [
    "theta = 0.5\n",
    "sigma = 2\n",
    "n = 1000\n",
    "hs = range(0,11)\n",
    "Zt = np.random.normal(0,sigma, size=n)\n",
    "Xt = Zt[1:] + theta*Zt[0:-1]\n",
    "Yt = 1/n * sum([ (Xt[i] - np.mean(Xt)) * (Xt[i + len(hs)] - mean(Xt)) for i in range(0,n- len(h)) ])\n",
    "Y_s = Yt*(hs)\n",
    "\n",
    "Yt2 = (sigma^2 * (1 + sigma^2)) * np.arry[np.array(hs) == 0] +  (sigma^2 * θ) * np.arrya[abs(np.array(hs)) == 1]\n",
    "Yt2 = Yt2 * hs\n",
    "print(Y_s,Yt2 )\n",
    "\n",
    "\n",
    "# γ_(h) = 1/n * sum( [ (Xt[i] - mean(Xt)) * (Xt[i + len(h)] - mean(Xt)) for i in 1:n-abs(h) ] )\n",
    "# γ_s = γ_.(hs)\n",
    "\n",
    "# γ(h) = (σ^2 * (1 + θ^2)) * (h == 0)  +  (σ^2 * θ) * (abs(h) == 1)\n",
    "# γs = γ.(hs)\n",
    "\n",
    "# scatter(hs, γ_s, label=\"empiryczna\", alpha=0.5)\n",
    "# scatter!(hs, γs, label=\"teoretyczna\", alpha=0.5) |> display\n",
    "\n",
    "# ρ_s = γ_s ./ γ_(0)\n",
    "# ρs = γs ./ γ(0)\n",
    "\n",
    "# scatter(hs, ρ_s, label=\"empiryczna\", alpha=0.5)\n",
    "# scatter!(hs, ρs, label=\"teoretyczna\", alpha=0.5)"
   ]
  },
  {
   "cell_type": "code",
   "execution_count": null,
   "id": "bbcd3e3d",
   "metadata": {},
   "outputs": [],
   "source": [
    "θ = 0.5\n",
    "σ = 2\n",
    "n = 1000\n",
    "hs = -50:50\n",
    "    range()\n",
    "Zt = rand(Normal(0, σ), n + 1)\n",
    "Xt = Zt[2:end] .+ θ .* Zt[1:end-1]\n",
    "\n",
    "γ_(h) = 1/n * sum( [ (Xt[i] - mean(Xt)) * (Xt[i + abs(h)] - mean(Xt)) for i in 1:n-abs(h) ] )\n",
    "γ_s = γ_.(hs)\n",
    "\n",
    "γ(h) = (σ^2 * (1 + θ^2)) * (h == 0)  +  (σ^2 * θ) * (abs(h) == 1)\n",
    "γs = γ.(hs)\n",
    "\n",
    "scatter(hs, γ_s, label=\"empiryczna\", alpha=0.5)\n",
    "scatter!(hs, γs, label=\"teoretyczna\", alpha=0.5) |> display\n",
    "\n",
    "ρ_s = γ_s ./ γ_(0)\n",
    "ρs = γs ./ γ(0)\n",
    "\n",
    "scatter(hs, ρ_s, label=\"empiryczna\", alpha=0.5)\n",
    "scatter!(hs, ρs, label=\"teoretyczna\", alpha=0.5)"
   ]
  }
 ],
 "metadata": {
  "kernelspec": {
   "display_name": "Python 3 (ipykernel)",
   "language": "python",
   "name": "python3"
  },
  "language_info": {
   "codemirror_mode": {
    "name": "ipython",
    "version": 3
   },
   "file_extension": ".py",
   "mimetype": "text/x-python",
   "name": "python",
   "nbconvert_exporter": "python",
   "pygments_lexer": "ipython3",
   "version": "3.9.7"
  }
 },
 "nbformat": 4,
 "nbformat_minor": 5
}
